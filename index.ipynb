{
 "cells": [
  {
   "cell_type": "markdown",
   "metadata": {},
   "source": [
    "# Yelp API - Lab\n",
    "\n",
    "The previously deployed lab on working around building a GIS with Yelp API and Folium can be found [here](https://github.com/learn-co-curriculum/dsc-2-15-10-yelp-api-gis-lab/tree/a56358c2d0c2daf569a5f50937c4c27463aadb1a) (not relevant for new students).\n",
    "\n",
    "\n",
    "## Introduction \n",
    "\n",
    "Now that we've seen how the Yelp API works, and some basic Folium visualizations its time to put those skills to work in order to create a working map! Taking things a step further, you'll also independently explore how to perform pagination in order to retrieve a full results set from the Yelp API!\n",
    "\n",
    "## Objectives\n",
    "\n",
    "You will be able to: \n",
    "* Create HTTP requests to get data from Yelp API\n",
    "* Parse HTTP responses and perform data analysis on the data returned\n",
    "* Perform pagination to retrieve troves of data!\n",
    "* Create a simple geographical system on to view information about selected businesses, at a given location. "
   ]
  },
  {
   "cell_type": "markdown",
   "metadata": {},
   "source": [
    "## Problem Introduction\n",
    "\n",
    "You've now worked with some API calls, but we have yet to see how to retrieve a more complete dataset in a programmatic manner. Returning to the Yelp API, the [documentation](https://www.yelp.com/developers/documentation/v3/business_search) also provides us details regarding the API limits. These often include details about the number of requests a user is allowed to make within a specified time limit and the maximum number of results to be returned. In this case, we are told that any request has a maximum of 50 results per request and defaults to 20. Furthermore, any search will be limited to a total of 1000 results. To retrieve all 1000 of these results, we would have to page through the results piece by piece, retriving 50 at a time. Processes such as these are often refered to as pagination.\n",
    "\n",
    "In this lab, you will define a search and then paginate over the results to retrieve all of the results. You'll then parse these responses as a DataFrame (for further exploration) and create a map using Folium to visualize the results geographically."
   ]
  },
  {
   "cell_type": "markdown",
   "metadata": {},
   "source": [
    "## Part I - Make the Initial Request\n",
    "\n",
    "Start by making an initial request to the Yelp API. Your search must include at least 2 parameters: **term** and **location**. For example, you might search for pizza restaurants in NYC. The term and location is up to you, but make the request below."
   ]
  },
  {
   "cell_type": "code",
   "execution_count": 3,
   "metadata": {},
   "outputs": [
    {
     "name": "stdout",
     "output_type": "stream",
     "text": [
      "<Response [200]>\n",
      "<class 'str'>\n",
      "{\"businesses\": [{\"id\": \"ysqgdbSrezXgVwER2kQWKA\", \"alias\": \"julianas-pizza-brooklyn-5\", \"name\": \"Juliana's Pizza\", \"image_url\": \"https://s3-media1.fl.yelpcdn.com/bphoto/7JtwTxhWHf3YS70Ss_CfxA/o.jpg\", \"is_closed\": false, \"url\": \"https://www.yelp.com/biz/julianas-pizza-brooklyn-5?adjust_creative=ua-7j9yr_CgcTD_4tQblcA&utm_campaign=yelp_api_v3&utm_medium=api_v3_business_search&utm_source=ua-7j9yr_CgcTD_4tQblcA\", \"review_count\": 1899, \"categories\": [{\"alias\": \"pizza\", \"title\": \"Pizza\"}], \"rating\": 4.5, \"coordinates\": {\"latitude\": 40.7026153030093, \"longitude\": -73.9934159993549}, \"transactions\": [], \"price\": \"$$\", \"location\": {\"address1\": \"19 Old Fulton St\", \"address2\": \"\", \"address3\": \"\", \"city\": \"Brooklyn\", \"zip_code\": \"11201\", \"country\": \"US\", \"state\": \"NY\", \"display_address\": [\"19 Old Fulton St\", \"Brooklyn, NY 11201\"]}, \"phone\": \"+17185966700\", \"display_phone\": \"(718) 596-6700\", \"distance\": 323.20506308227306}, {\"id\": \"WIhm0W9197f_rRtDziq5qQ\", \"alias\": \"lombardis-pizza-new-york-4\", \"nam\n"
     ]
    }
   ],
   "source": [
    "#Your code here\n",
    "import requests\n",
    "import pandas as pd\n",
    "\n",
    "client_id = 'ua-7j9yr_CgcTD_4tQblcA'\n",
    "api_key = '8dsXYq6nxsBx-XpawRnB6ONyWjpz-vpt0hkk7XGMSh2KfMuoH-KIN-yEow0MBFCuuP6gljF9qgFa58jXB9NuvpY52o6EiSgTX4yncXLPVbIGSaHQi1fBSAWySnJcXHYx'\n",
    "\n",
    "term = 'pizza'\n",
    "location = 'New York NY'\n",
    "\n",
    "url = 'https://api.yelp.com/v3/businesses/search'\n",
    "\n",
    "headers = {\n",
    "        'Authorization': 'Bearer {}'.format(api_key),\n",
    "    }\n",
    "\n",
    "url_params = {\n",
    "                'term': term.replace(' ', '+'),\n",
    "                'location': location.replace(' ', '+'),\n",
    "            }\n",
    "response = requests.get(url, headers=headers, params=url_params) #Your code here\n",
    "print(response)\n",
    "print(type(response.text))\n",
    "print(response.text[:1000])"
   ]
  },
  {
   "cell_type": "code",
   "execution_count": 4,
   "metadata": {},
   "outputs": [
    {
     "data": {
      "text/plain": [
       "20"
      ]
     },
     "execution_count": 4,
     "metadata": {},
     "output_type": "execute_result"
    }
   ],
   "source": [
    "len(response.json()['businesses'])"
   ]
  },
  {
   "cell_type": "code",
   "execution_count": 5,
   "metadata": {},
   "outputs": [
    {
     "data": {
      "text/plain": [
       "10600"
      ]
     },
     "execution_count": 5,
     "metadata": {},
     "output_type": "execute_result"
    }
   ],
   "source": [
    "response.json()['total']"
   ]
  },
  {
   "cell_type": "markdown",
   "metadata": {},
   "source": [
    "## Pagination\n",
    "\n",
    "Now that you have an initial response, you can examine the contents of the json container. For example, you might start with ```response.josn().keys()```. Here, you'll see a key for `'total'`, which tells you the full number of matching results given your query parameters. Write a loop (or ideally a function) which then makes successive API calls using the offset parameter to retrieve all of the results (or 5000 for a particularly large result set) for the original query. As you do this, be mindful of how you store the data. Your final goal will be to reformat the data concerning the businesses themselves into a pandas DataFrame from the json objects.\n",
    "\n",
    "**Note: be mindful of the API rate limits. You can only make 5000 requests per day, and are also can make requests too fast. Start prototyping small before running a loop that could be faulty. You can also use time.sleep(n) to add delays. For more details see https://www.yelp.com/developers/documentation/v3/rate_limiting.**"
   ]
  },
  {
   "cell_type": "code",
   "execution_count": 6,
   "metadata": {},
   "outputs": [
    {
     "name": "stdout",
     "output_type": "stream",
     "text": [
      "10600 total matches found.\n",
      "1000\n"
     ]
    },
    {
     "data": {
      "text/html": [
       "<div>\n",
       "<style scoped>\n",
       "    .dataframe tbody tr th:only-of-type {\n",
       "        vertical-align: middle;\n",
       "    }\n",
       "\n",
       "    .dataframe tbody tr th {\n",
       "        vertical-align: top;\n",
       "    }\n",
       "\n",
       "    .dataframe thead th {\n",
       "        text-align: right;\n",
       "    }\n",
       "</style>\n",
       "<table border=\"1\" class=\"dataframe\">\n",
       "  <thead>\n",
       "    <tr style=\"text-align: right;\">\n",
       "      <th></th>\n",
       "      <th>alias</th>\n",
       "      <th>categories</th>\n",
       "      <th>coordinates</th>\n",
       "      <th>display_phone</th>\n",
       "      <th>distance</th>\n",
       "      <th>id</th>\n",
       "      <th>image_url</th>\n",
       "      <th>is_closed</th>\n",
       "      <th>location</th>\n",
       "      <th>name</th>\n",
       "      <th>phone</th>\n",
       "      <th>price</th>\n",
       "      <th>rating</th>\n",
       "      <th>review_count</th>\n",
       "      <th>transactions</th>\n",
       "      <th>url</th>\n",
       "    </tr>\n",
       "  </thead>\n",
       "  <tbody>\n",
       "    <tr>\n",
       "      <th>0</th>\n",
       "      <td>rizzos-fine-pizza-astoria</td>\n",
       "      <td>[{'alias': 'pizza', 'title': 'Pizza'}]</td>\n",
       "      <td>{'latitude': 40.76335, 'longitude': -73.91516}</td>\n",
       "      <td>(718) 721-9862</td>\n",
       "      <td>713.161109</td>\n",
       "      <td>hB2S1y5T9ufMz5ksHHhdIA</td>\n",
       "      <td>https://s3-media3.fl.yelpcdn.com/bphoto/p1IQ1w...</td>\n",
       "      <td>False</td>\n",
       "      <td>{'address1': '3013 Steinway St', 'address2': '...</td>\n",
       "      <td>Rizzo's Fine Pizza</td>\n",
       "      <td>+17187219862</td>\n",
       "      <td>$</td>\n",
       "      <td>4.0</td>\n",
       "      <td>542</td>\n",
       "      <td>[delivery, pickup]</td>\n",
       "      <td>https://www.yelp.com/biz/rizzos-fine-pizza-ast...</td>\n",
       "    </tr>\n",
       "    <tr>\n",
       "      <th>1</th>\n",
       "      <td>milkflower-astoria</td>\n",
       "      <td>[{'alias': 'pizza', 'title': 'Pizza'}]</td>\n",
       "      <td>{'latitude': 40.7628961, 'longitude': -73.9207...</td>\n",
       "      <td>(718) 204-1300</td>\n",
       "      <td>461.294783</td>\n",
       "      <td>1OZPOWZwJr-hpvMt6TD4ug</td>\n",
       "      <td>https://s3-media3.fl.yelpcdn.com/bphoto/SQG1kI...</td>\n",
       "      <td>False</td>\n",
       "      <td>{'address1': '3412 31st Ave', 'address2': '', ...</td>\n",
       "      <td>Milkflower</td>\n",
       "      <td>+17182041300</td>\n",
       "      <td>$$</td>\n",
       "      <td>4.5</td>\n",
       "      <td>562</td>\n",
       "      <td>[]</td>\n",
       "      <td>https://www.yelp.com/biz/milkflower-astoria?ad...</td>\n",
       "    </tr>\n",
       "    <tr>\n",
       "      <th>2</th>\n",
       "      <td>sacs-place-astoria</td>\n",
       "      <td>[{'alias': 'pizza', 'title': 'Pizza'}, {'alias...</td>\n",
       "      <td>{'latitude': 40.7628982173022, 'longitude': -7...</td>\n",
       "      <td>(718) 204-5002</td>\n",
       "      <td>605.395513</td>\n",
       "      <td>Y3xDbSHXs6apMA4JLGJZ1Q</td>\n",
       "      <td>https://s3-media3.fl.yelpcdn.com/bphoto/DvDlQ_...</td>\n",
       "      <td>False</td>\n",
       "      <td>{'address1': '2541 Broadway', 'address2': '', ...</td>\n",
       "      <td>Sac's Place</td>\n",
       "      <td>+17182045002</td>\n",
       "      <td>$$</td>\n",
       "      <td>4.0</td>\n",
       "      <td>450</td>\n",
       "      <td>[delivery, pickup]</td>\n",
       "      <td>https://www.yelp.com/biz/sacs-place-astoria?ad...</td>\n",
       "    </tr>\n",
       "    <tr>\n",
       "      <th>3</th>\n",
       "      <td>napoli-pizza-and-pasta-astoria-4</td>\n",
       "      <td>[{'alias': 'pizza', 'title': 'Pizza'}, {'alias...</td>\n",
       "      <td>{'latitude': 40.75718, 'longitude': -73.92686}</td>\n",
       "      <td>(718) 472-1146</td>\n",
       "      <td>1148.015816</td>\n",
       "      <td>Lw58gDv9ipwtOcg2EIJp3w</td>\n",
       "      <td>https://s3-media3.fl.yelpcdn.com/bphoto/os_Qgp...</td>\n",
       "      <td>False</td>\n",
       "      <td>{'address1': '33-02 35th Ave', 'address2': '',...</td>\n",
       "      <td>Napoli Pizza &amp; Pasta</td>\n",
       "      <td>+17184721146</td>\n",
       "      <td>$</td>\n",
       "      <td>4.0</td>\n",
       "      <td>274</td>\n",
       "      <td>[delivery, pickup]</td>\n",
       "      <td>https://www.yelp.com/biz/napoli-pizza-and-past...</td>\n",
       "    </tr>\n",
       "    <tr>\n",
       "      <th>4</th>\n",
       "      <td>rosarios-astoria-2</td>\n",
       "      <td>[{'alias': 'delis', 'title': 'Delis'}, {'alias...</td>\n",
       "      <td>{'latitude': 40.7749914695423, 'longitude': -7...</td>\n",
       "      <td>(718) 728-2920</td>\n",
       "      <td>1245.611380</td>\n",
       "      <td>4q8jF2pKoWYbJXYmSNMG1g</td>\n",
       "      <td>https://s3-media1.fl.yelpcdn.com/bphoto/Apn8RO...</td>\n",
       "      <td>False</td>\n",
       "      <td>{'address1': '2255 31st St', 'address2': '', '...</td>\n",
       "      <td>Rosario's</td>\n",
       "      <td>+17187282920</td>\n",
       "      <td>$$</td>\n",
       "      <td>4.5</td>\n",
       "      <td>132</td>\n",
       "      <td>[delivery, pickup]</td>\n",
       "      <td>https://www.yelp.com/biz/rosarios-astoria-2?ad...</td>\n",
       "    </tr>\n",
       "  </tbody>\n",
       "</table>\n",
       "</div>"
      ],
      "text/plain": [
       "                              alias  \\\n",
       "0         rizzos-fine-pizza-astoria   \n",
       "1                milkflower-astoria   \n",
       "2                sacs-place-astoria   \n",
       "3  napoli-pizza-and-pasta-astoria-4   \n",
       "4                rosarios-astoria-2   \n",
       "\n",
       "                                          categories  \\\n",
       "0             [{'alias': 'pizza', 'title': 'Pizza'}]   \n",
       "1             [{'alias': 'pizza', 'title': 'Pizza'}]   \n",
       "2  [{'alias': 'pizza', 'title': 'Pizza'}, {'alias...   \n",
       "3  [{'alias': 'pizza', 'title': 'Pizza'}, {'alias...   \n",
       "4  [{'alias': 'delis', 'title': 'Delis'}, {'alias...   \n",
       "\n",
       "                                         coordinates   display_phone  \\\n",
       "0     {'latitude': 40.76335, 'longitude': -73.91516}  (718) 721-9862   \n",
       "1  {'latitude': 40.7628961, 'longitude': -73.9207...  (718) 204-1300   \n",
       "2  {'latitude': 40.7628982173022, 'longitude': -7...  (718) 204-5002   \n",
       "3     {'latitude': 40.75718, 'longitude': -73.92686}  (718) 472-1146   \n",
       "4  {'latitude': 40.7749914695423, 'longitude': -7...  (718) 728-2920   \n",
       "\n",
       "      distance                      id  \\\n",
       "0   713.161109  hB2S1y5T9ufMz5ksHHhdIA   \n",
       "1   461.294783  1OZPOWZwJr-hpvMt6TD4ug   \n",
       "2   605.395513  Y3xDbSHXs6apMA4JLGJZ1Q   \n",
       "3  1148.015816  Lw58gDv9ipwtOcg2EIJp3w   \n",
       "4  1245.611380  4q8jF2pKoWYbJXYmSNMG1g   \n",
       "\n",
       "                                           image_url  is_closed  \\\n",
       "0  https://s3-media3.fl.yelpcdn.com/bphoto/p1IQ1w...      False   \n",
       "1  https://s3-media3.fl.yelpcdn.com/bphoto/SQG1kI...      False   \n",
       "2  https://s3-media3.fl.yelpcdn.com/bphoto/DvDlQ_...      False   \n",
       "3  https://s3-media3.fl.yelpcdn.com/bphoto/os_Qgp...      False   \n",
       "4  https://s3-media1.fl.yelpcdn.com/bphoto/Apn8RO...      False   \n",
       "\n",
       "                                            location                  name  \\\n",
       "0  {'address1': '3013 Steinway St', 'address2': '...    Rizzo's Fine Pizza   \n",
       "1  {'address1': '3412 31st Ave', 'address2': '', ...            Milkflower   \n",
       "2  {'address1': '2541 Broadway', 'address2': '', ...           Sac's Place   \n",
       "3  {'address1': '33-02 35th Ave', 'address2': '',...  Napoli Pizza & Pasta   \n",
       "4  {'address1': '2255 31st St', 'address2': '', '...             Rosario's   \n",
       "\n",
       "          phone price  rating  review_count        transactions  \\\n",
       "0  +17187219862     $     4.0           542  [delivery, pickup]   \n",
       "1  +17182041300    $$     4.5           562                  []   \n",
       "2  +17182045002    $$     4.0           450  [delivery, pickup]   \n",
       "3  +17184721146     $     4.0           274  [delivery, pickup]   \n",
       "4  +17187282920    $$     4.5           132  [delivery, pickup]   \n",
       "\n",
       "                                                 url  \n",
       "0  https://www.yelp.com/biz/rizzos-fine-pizza-ast...  \n",
       "1  https://www.yelp.com/biz/milkflower-astoria?ad...  \n",
       "2  https://www.yelp.com/biz/sacs-place-astoria?ad...  \n",
       "3  https://www.yelp.com/biz/napoli-pizza-and-past...  \n",
       "4  https://www.yelp.com/biz/rosarios-astoria-2?ad...  "
      ]
     },
     "execution_count": 6,
     "metadata": {},
     "output_type": "execute_result"
    }
   ],
   "source": [
    "import pandas as pd\n",
    "import time\n",
    "\n",
    "def yelp_call(url_params, api_key):\n",
    "    url = 'https://api.yelp.com/v3/businesses/search'\n",
    "    headers = {'Authorization': 'Bearer {}'.format(api_key)}\n",
    "    response = requests.get(url, headers=headers, params=url_params)\n",
    "    \n",
    "    df = pd.DataFrame(response.json()['businesses'])\n",
    "    return df\n",
    "\n",
    "def all_results(url_params, api_key):\n",
    "    num = response.json()['total']\n",
    "    print('{} total matches found.'.format(num))\n",
    "    cur = 0\n",
    "    dfs = []\n",
    "    while cur < num and cur < 1000:\n",
    "        url_params['offset'] = cur\n",
    "        dfs.append(yelp_call(url_params, api_key))\n",
    "        time.sleep(1) #Wait a second\n",
    "        cur += 50\n",
    "    df = pd.concat(dfs, ignore_index=True)\n",
    "    return df\n",
    "\n",
    "term = 'pizza'\n",
    "location = 'Astoria NY'\n",
    "url_params = {  'term': term.replace(' ', '+'),\n",
    "                'location': location.replace(' ', '+'),\n",
    "                'limit' : 50\n",
    "             }\n",
    "df = all_results(url_params, api_key)\n",
    "print(len(df))\n",
    "df.head()"
   ]
  },
  {
   "cell_type": "markdown",
   "metadata": {},
   "source": [
    "## Exploratory Analysis\n",
    "\n",
    "Take the restaurants from the previous question and do an intial exploratory analysis. At minimum, this should include looking at the distribution of features such as price, rating and number of reviews as well as the relations between these dimensions."
   ]
  },
  {
   "cell_type": "code",
   "execution_count": 7,
   "metadata": {},
   "outputs": [
    {
     "data": {
      "text/plain": [
       "array([[<matplotlib.axes._subplots.AxesSubplot object at 0x7f6a7c220208>,\n",
       "        <matplotlib.axes._subplots.AxesSubplot object at 0x7f6a7c3e8b38>,\n",
       "        <matplotlib.axes._subplots.AxesSubplot object at 0x7f6a7ac11470>],\n",
       "       [<matplotlib.axes._subplots.AxesSubplot object at 0x7f6a7ac369e8>,\n",
       "        <matplotlib.axes._subplots.AxesSubplot object at 0x7f6a7abe1f60>,\n",
       "        <matplotlib.axes._subplots.AxesSubplot object at 0x7f6a7ab91518>],\n",
       "       [<matplotlib.axes._subplots.AxesSubplot object at 0x7f6a7abb6a90>,\n",
       "        <matplotlib.axes._subplots.AxesSubplot object at 0x7f6a7ab69080>,\n",
       "        <matplotlib.axes._subplots.AxesSubplot object at 0x7f6a7ab690b8>]],\n",
       "      dtype=object)"
      ]
     },
     "execution_count": 7,
     "metadata": {},
     "output_type": "execute_result"
    },
    {
     "data": {
      "image/png": "[encoded data removed]",
      "text/plain": [
       "<Figure size 432x288 with 9 Axes>"
      ]
     },
     "metadata": {
      "needs_background": "light"
     },
     "output_type": "display_data"
    }
   ],
   "source": [
    "import matplotlib.pyplot as plt\n",
    "%matplotlib inline\n",
    "\n",
    "df.price = df.price.fillna(value=0)\n",
    "price_dict = {\"$\": 1, \"$$\":2, \"$$$\": 3, \"$$$$\":4}\n",
    "df.price = df.price.map(price_dict)\n",
    "\n",
    "pd.plotting.scatter_matrix(df[['price', 'rating', 'review_count']])"
   ]
  },
  {
   "cell_type": "markdown",
   "metadata": {},
   "source": [
    "## Mapping\n",
    "\n",
    "Look at the initial Yelp example and try and make a map using Folium of the restaurants you retrieved. Be sure to also add popups to the markers giving some basic information such as name, rating and price."
   ]
  },
  {
   "cell_type": "code",
   "execution_count": null,
   "metadata": {},
   "outputs": [],
   "source": [
    "#Your code here"
   ]
  },
  {
   "cell_type": "markdown",
   "metadata": {},
   "source": [
    "## Summary\n",
    "\n",
    "Nice work! In this lab, you synthesized your skills for the day, making multiple API calls to Yelp in order to paginate through a results set, performing some basic exploratory analysis and then creating a nice map visual to display the results! Well done!"
   ]
  }
 ],
 "metadata": {
  "kernelspec": {
   "display_name": "Python 3",
   "language": "python",
   "name": "python3"
  },
  "language_info": {
   "codemirror_mode": {
    "name": "ipython",
    "version": 3
   },
   "file_extension": ".py",
   "mimetype": "text/x-python",
   "name": "python",
   "nbconvert_exporter": "python",
   "pygments_lexer": "ipython3",
   "version": "3.6.6"
  }
 },
 "nbformat": 4,
 "nbformat_minor": 2
}
